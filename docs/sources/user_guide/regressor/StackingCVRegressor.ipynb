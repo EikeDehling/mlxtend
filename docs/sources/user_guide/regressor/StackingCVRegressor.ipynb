{
 "cells": [
  {
   "cell_type": "markdown",
   "metadata": {
    "collapsed": true
   },
   "source": [
    "# StackingCVRegressor\n",
    "\n",
    "An ensemble-learning meta-regressor for stacking using out-of-fold predictions to prepare the inputs for the level-2 regressor to prevent overfitting.\n",
    "\n",
    "# Algorithm\n",
    "\n",
    "Stacking is an ensemble learning technique to combine multiple regression models via a meta-regressor. The StackingCVRegressor extends the standard stacking algorithm (implemented as StackingRegressor) using out-of-fold predictions to prepare the input data for the level-2 classifier.\n",
    "\n",
    "In the standard stacking procedure, the first-level regressors are fit to the same training set that is used prepare the inputs for the second-level regressor, which may lead to overfitting. The StackingCVRegressor, however, uses the concept of out-of-fold predictions: the dataset is split into k folds, and in k successive rounds, k-1 folds are used to fit the first level regressor; in each round, the first-level regressors are then applied to the remaining 1 subset that was not used for model fitting in each iteration. The resulting predictions are then stacked and provided -- as input data -- to the second-level regressor. After the training of the StackingCVRegressor, the first-level regressors are fit to the entire dataset for optimal training."
   ]
  },
  {
   "cell_type": "code",
   "execution_count": null,
   "metadata": {},
   "outputs": [],
   "source": [
    "from mlxtend.regressor import StackingCVRegressor\n",
    "from sklearn.datasets import load_boston\n",
    "from sklearn.svm import SVR\n",
    "from sklearn.linear_model import Lasso\n",
    "from sklearn.ensemble import RandomForestRegressor\n",
    "from sklearn.model_selection import cross_val_score\n",
    "\n",
    "X, y = load_boston(return_X_y=True)\n",
    "\n",
    "svr = SVR(kernel='linear')\n",
    "lasso = Lasso()\n",
    "rf = RandomForestRegressor(n_estimators=5)\n",
    "\n",
    "stack = StackingRegressor(regressors=(svr, lasso, rf),\n",
    "                          meta_regressor=lasso)\n",
    "\n",
    "print('3-fold cross validation scores:\\n')\n",
    "\n",
    "for clf, label in zip([svr, lasso, rf, stack],\n",
    "                      ['SVM', 'Lasso', 'Random Forest', 'StackingClassifier']):\n",
    "    scores = cross_val_score(clf, X, y, cv=3, scoring='r2')\n",
    "    print(\"R2 score: %0.2f (+/- %0.2f) [%s]\"\n",
    "          % (scores.mean(), scores.std(), label))"
   ]
  }
 ],
 "metadata": {
  "kernelspec": {
   "display_name": "Python 2",
   "language": "python",
   "name": "python2"
  },
  "language_info": {
   "codemirror_mode": {
    "name": "ipython",
    "version": 2
   },
   "file_extension": ".py",
   "mimetype": "text/x-python",
   "name": "python",
   "nbconvert_exporter": "python",
   "pygments_lexer": "ipython2",
   "version": "2.7.12"
  }
 },
 "nbformat": 4,
 "nbformat_minor": 1
}
